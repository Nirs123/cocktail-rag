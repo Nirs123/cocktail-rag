{
 "cells": [
  {
   "cell_type": "markdown",
   "metadata": {},
   "source": [
    "# Notebook 1 : Web Scraping\n",
    "\n",
    "L'objectif de ce notebook est de scraper le site https://www.cocktailmag.fr/ pour y récupérer l'ensemble des cocktails\n",
    "\n",
    "## Étape 1 : Déterminer les informations que l'on recherche\n",
    "\n",
    "Sur le site, on retrouve la page [/recette-cocktail](https://www.cocktailmag.fr/recette-cocktail) qui contient une liste de cocktail avec déjà quelques informations :\n",
    "\n",
    "<img src=\"../img/web_scraping/site.png\" alt=\"Site\" width=\"600\"/>\n",
    "\n",
    "Sur chacun de ces cocktails, on peut cliquer dessus pour accéder au détail du cocktail :\n",
    "\n",
    "<img src=\"../img/web_scraping/cocktail.png\" alt=\"Cocktail\" width=\"600\"/>\n",
    "\n",
    "Ainsi avec ces 2 sources de données, on va pouvoir récupérer les informations suivantes :\n",
    "\n",
    "- Nom du cocktail\n",
    "- Image du cocktail (lien)\n",
    "- Description courte\n",
    "- Caractéristiques\n",
    "- Ingrédients\n",
    "- Recette\n",
    "- A propos\n",
    "\n",
    "Nous allons donc construire un dataframe Pandas avec ces informations, avec une ligne par cocktail. Nous chargerons ensuite ce dataframe dans un fichier CSV pour pouvoir l'utiliser dans les prochains notebooks."
   ]
  },
  {
   "cell_type": "markdown",
   "metadata": {},
   "source": [
    "## Étape 2 : Scraper le site web\n",
    "\n",
    "La page avec une liste de cocktails contient 15 cocktails par page, et on peut naviguer entre les pages. Un point qui nous arrange est que la navigation peut se faire simplement avec l'argument `start` dans l'URL. Par exemple, pour accéder à la page 2, il suffit de rajouter `?start=15` à l'URL.\n",
    "\n",
    "Nous allons donc nous servir de cette information pour scraper l'ensemble des cocktails.\n",
    "\n",
    "Pour récupérer toutes les informations de chaque cocktail, notre algorithme va procéder de la manière suivante :\n",
    "\n",
    "1. Récupérer la liste des cocktails sur la page\n",
    "2. Pour chaque cocktail, récupérer les informations\n",
    "3. Récupérer le lien vers le détail du cocktail\n",
    "4. Récupérer les informations du détail du cocktail\n",
    "\n",
    "Et nous recommencerons cette opération pour chaque page jusqu'à ce qu'il n'y ait plus de cocktails.\n",
    "\n",
    "Pour cela, nous allons utiliser la librairie `requests` pour récupérer le contenu des pages, et `BeautifulSoup` pour parser le contenu et récupérer les informations qui nous intéressent."
   ]
  },
  {
   "cell_type": "code",
   "execution_count": null,
   "metadata": {},
   "outputs": [],
   "source": [
    "import requests\n",
    "from bs4 import BeautifulSoup\n",
    "\n",
    "names = []\n",
    "img_links = []\n",
    "descriptions = []\n",
    "tags = []\n",
    "ingredients = []\n",
    "recipes = []\n",
    "abouts = []\n",
    "\n",
    "def get_cocktails(start):\n",
    "    URL = \"https://www.cocktailmag.fr/recette-cocktail?start=\" + str(start)\n",
    "    page = requests.get(URL)\n",
    "    soup = BeautifulSoup(page.content, \"html.parser\")\n",
    "\n",
    "    cocktails = soup.find('div', attrs={'class' :\"com-content-category-blog__items blog-items boxed columns-3\"})\n",
    "\n",
    "    cocktail_list = cocktails.find_all('div', attrs={'class' :\"com-content-category-blog__item blog-item\"})\n",
    "    \n",
    "    for cocktail in cocktail_list:\n",
    "        # ===============\n",
    "        #  Première page\n",
    "        # ===============\n",
    "\n",
    "        # Nom du cocktail\n",
    "        name = cocktail.find('h2').text.strip()\n",
    "\n",
    "        # Lien vers l'image du cocktail\n",
    "        img_link = cocktail.find('img')['src']\n",
    "\n",
    "        # Description du cocktail\n",
    "        description = cocktail.find('div', attrs={'class' :\"itemintro\"}).text.strip()\n",
    "\n",
    "        # Tags du cocktail\n",
    "        tag = cocktail.find('ul', attrs={'class' :\"tags list-inline\"})\n",
    "        tag = \"; \".join([t.text.strip() for t in tag.find_all('li')])\n",
    "\n",
    "\n",
    "        # =======================\n",
    "        #  Page détails cocktail\n",
    "        # =======================\n",
    "        URL_cocktail = cocktail.find('a')['href']\n",
    "        page_cocktail = requests.get(\"https://www.cocktailmag.fr/\" + URL_cocktail)\n",
    "        soup_cocktail = BeautifulSoup(page_cocktail.content, \"html.parser\")\n",
    "\n",
    "        # Ingrédients du cocktail\n",
    "        ingredient = \"; \".join([i.text for i in soup_cocktail.find_all('div', attrs={'class' :\"ingredients\"})])\n",
    "\n",
    "        # Recette du cocktail\n",
    "        recipe_div = soup_cocktail.find('div', attrs={'class' :\"itembottom\"})\n",
    "        recipe = recipe_div.find('ol')\n",
    "        recipe = \"; \".join([step.text.strip() for step in recipe.find_all('li')])\n",
    "\n",
    "        # A propos / Histoire du cocktail\n",
    "        # Cas spécifique pour le cocktail \"Spritz\" qui n'a pas de div \"itemhistory\"\n",
    "        if name == \"Spritz\":\n",
    "            about = \"; \".join([\n",
    "                    \"L’histoire du Spritz remonte au XIXe siècle, lorsque l’Empire austro-hongrois occupait le nord de l’Italie, notamment la Vénétie et la Lombardie. Les soldats et fonctionnaires autrichiens, peu habitués aux vins italiens plus forts que ceux de leur pays, demandaient aux aubergistes d’adoucir ces vins en les allongeant avec un peu d’eau gazeuse.\",\n",
    "                    \"Le mot \\\"Spritz\\\" vient d’ailleurs du verbe allemand \\\"spritzen\\\", qui signifie \\\"asperger\\\" ou \\\"arroser\\\", en référence à cette habitude d’ajouter de l’eau pétillante au vin.\"\n",
    "            ])\n",
    "        # Cas spécifique pour les cocktail qui n'ont aucune section \"A propos\"\n",
    "        elif name in [\"Blackjack\", \"Bedroom Farce\", \"Marama Rum Punch\"]:\n",
    "            about = \"\"\n",
    "        # Cas général\n",
    "        else:\n",
    "            about_divs = soup_cocktail.find_all('div', attrs={'class' :\"itemhistory\"})\n",
    "            target_div = None\n",
    "            for div in about_divs:\n",
    "                if div.find('p'):\n",
    "                    target_div = div\n",
    "            about = \"; \".join([p.text.strip() for p in target_div.find_all('p')])\n",
    "\n",
    "\n",
    "        # Insertion dans les listes\n",
    "        names.append(name)\n",
    "        img_links.append(img_link)\n",
    "        descriptions.append(description)\n",
    "        tags.append(tag)\n",
    "        ingredients.append(ingredient)\n",
    "        recipes.append(recipe)\n",
    "        abouts.append(about)\n",
    "\n",
    "    return len(cocktail_list)\n"
   ]
  },
  {
   "cell_type": "code",
   "execution_count": 152,
   "metadata": {},
   "outputs": [],
   "source": [
    "start = 0\n",
    "while get_cocktails(start) == 15:\n",
    "    start += 15 "
   ]
  },
  {
   "cell_type": "markdown",
   "metadata": {},
   "source": [
    "## Étape 3 : Création du dataframe\n",
    "\n",
    "Désormais nous pouvons enregistrer les données dans un dataframe Pandas."
   ]
  },
  {
   "cell_type": "code",
   "execution_count": 153,
   "metadata": {},
   "outputs": [],
   "source": [
    "import pandas as pd\n",
    "\n",
    "data = {\n",
    "    \"name\": names,\n",
    "    \"img_link\": img_links,\n",
    "    \"description\": descriptions,\n",
    "    \"tags\": tags,\n",
    "    \"ingredients\": ingredients,\n",
    "    \"recipe\": recipes,\n",
    "    \"about\": abouts\n",
    "}\n",
    "\n",
    "df = pd.DataFrame.from_dict(data)"
   ]
  },
  {
   "cell_type": "markdown",
   "metadata": {},
   "source": [
    "# Étape 4 : Vérification des données\n",
    "\n",
    "Avant d'enregistrer les données dans un fichier CSV, nous allons vérifier que les données récupérées sont correctes.\n",
    "\n",
    "Nous allons notamment vérifier s'il n'y a aucun doublon et s'il n'y a pas de données manquantes."
   ]
  },
  {
   "cell_type": "code",
   "execution_count": 154,
   "metadata": {},
   "outputs": [
    {
     "name": "stdout",
     "output_type": "stream",
     "text": [
      "0\n"
     ]
    }
   ],
   "source": [
    "print(df['name'].duplicated().sum())"
   ]
  },
  {
   "cell_type": "code",
   "execution_count": 155,
   "metadata": {},
   "outputs": [
    {
     "name": "stdout",
     "output_type": "stream",
     "text": [
      "name           0\n",
      "img_link       0\n",
      "description    0\n",
      "tags           0\n",
      "ingredients    0\n",
      "recipe         0\n",
      "about          0\n",
      "dtype: int64\n"
     ]
    }
   ],
   "source": [
    "print(df.isnull().sum())"
   ]
  },
  {
   "cell_type": "markdown",
   "metadata": {},
   "source": [
    "# Étape 5 : Enregistrement des données dans un fichier CSV\n",
    "\n",
    "Enfin nous pouvons enregistrer les données dans un fichier CSV pour pouvoir les utiliser dans les prochains notebooks."
   ]
  },
  {
   "cell_type": "code",
   "execution_count": null,
   "metadata": {},
   "outputs": [],
   "source": [
    "df.to_csv(\"../dataset/cocktails.csv\", index=False)"
   ]
  },
  {
   "cell_type": "code",
   "execution_count": null,
   "metadata": {},
   "outputs": [],
   "source": []
  }
 ],
 "metadata": {
  "kernelspec": {
   "display_name": "Python 3",
   "language": "python",
   "name": "python3"
  },
  "language_info": {
   "codemirror_mode": {
    "name": "ipython",
    "version": 3
   },
   "file_extension": ".py",
   "mimetype": "text/x-python",
   "name": "python",
   "nbconvert_exporter": "python",
   "pygments_lexer": "ipython3",
   "version": "3.11.9"
  }
 },
 "nbformat": 4,
 "nbformat_minor": 2
}
