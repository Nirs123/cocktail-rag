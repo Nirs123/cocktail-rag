{
 "cells": [
  {
   "cell_type": "markdown",
   "metadata": {},
   "source": [
    "# Notebook 4 : Création d'un dataset d'évaluation\n",
    "\n",
    "L'objectif de ce notebook est de créer une un dataset qui contiendra des questions potentielles que l'utilisateur pourrait poser à notre système.\n",
    "\n",
    "En résultat il contiendra les réponse attendues.\n",
    "\n",
    "Etant donné que nous avons un système de recherche vectorielle, il se pourrait qu'une question ait plusieurs bonnes réponses possibles.\n",
    "\n",
    "C'est pourquoi dans notre dataset d'évaluation, nous aurons une colonne `question` et une colonnes `relevent_cocktails` qui contiendront les 10 cocktails les plus pertinents pour la question donnée. De plus nous aurons une colonne `category` pour identifier le type de question\n",
    "\n",
    "## Etape 1 : Identification des cas d'usage\n",
    "\n",
    "Premièrement, nous allons identifier tous les cas d'usage de notre système pour pouvoir générer des questions :\n",
    "\n",
    "- **Recherche par nom de cocktail** : \"Quelle est la recette du cocktail Margarita ?\"\n",
    "- **Recherche par ingrédient** : \"Quels cocktails puis-je faire avec du rhum et du citron ?\"\n",
    "- **Recherche par catégorie** : \"Quel cocktail je pourrais faire sans alcool ?\" \n",
    "- **Recherche par type de verre** : \"Quels cocktails puis-je faire avec un verre à Martini ?\"\n",
    "- **Recherche par caractéristique** : \"Je cherche un cocktail rafraichissant pour l'été\"\n",
    "- **Recherche par occasion** : \"Quels cocktails puis-je faire pour une soirée entre amis ?\"\n",
    "\n",
    "## Etape 2 : Génération des questions\n",
    "\n",
    "Maintenant que nous avons nos cas d'usage, nous allons générer 15 questions grâce à un LLM, ce qui va nous permettre de générer des questions de manière automatique et de manière variée.\n",
    "\n",
    "C'est aussi ce LLM, qui va nous fournir les 10 cocktails les plus pertinents pour chaque question.\n",
    "\n",
    "Le LLM que nous allons utiliser est Llama3.2 instancié avec ollama."
   ]
  },
  {
   "cell_type": "code",
   "execution_count": null,
   "metadata": {},
   "outputs": [],
   "source": [
    "import pandas as pd\n",
    "import os\n",
    "from mistralai import Mistral\n",
    "from dotenv import load_dotenv\n",
    "\n",
    "load_dotenv()\n",
    "\n",
    "df = pd.read_csv('../data/cocktails.csv') \n",
    "\n",
    "api_key = os.getenv('MISTRAL_API_KEY')\n",
    "model = \"mistral-large-latest\"\n",
    "\n",
    "client = Mistral(api_key=api_key)\n",
    "\n",
    "def request_mistral(prompt):\n",
    "    chat_response = client.chat.complete(\n",
    "        model=model,\n",
    "        messages = [\n",
    "            {\n",
    "                \"role\": \"user\",\n",
    "                \"content\": prompt,\n",
    "            },\n",
    "        ],\n",
    "        max_tokens=1000,\n",
    "        temperature=0.7\n",
    "    )\n",
    "    return chat_response.choices[0].message.content\n",
    "\n",
    "categories = {\n",
    "    \"Recherche par nom de cocktail\": {\n",
    "        \"description\": \"Find cocktails by exact name match\",\n",
    "        \"examples\": [\"Quelle est la recette du cocktail Margarita ?\", \"Comment faire un Mojito ?\"]\n",
    "    },\n",
    "    \"Recherche par ingrédient\": {\n",
    "        \"description\": \"Find cocktails containing specific ingredients\",\n",
    "        \"examples\": [\"Quels cocktails puis-je faire avec du rhum et du citron ?\", \"J'ai de la vodka et du jus d'orange, quel cocktail puis-je faire ?\"]\n",
    "    },\n",
    "    \"Recherche par catégorie\": {\n",
    "        \"description\": \"Find cocktails by category (e.g., non-alcoholic)\",\n",
    "        \"examples\": [\"Quel cocktail je pourrais faire sans alcool ?\", \"Quels cocktails sont à base de champagne ?\"]\n",
    "    },\n",
    "    \"Recherche par type de verre\": {\n",
    "        \"description\": \"Find cocktails served in specific glassware\",\n",
    "        \"examples\": [\"Quels cocktails puis-je faire avec un verre à Martini ?\", \"J'ai des verres Highball, quel cocktail faire ?\"]\n",
    "    },\n",
    "    \"Recherche par caractéristique\": {\n",
    "        \"description\": \"Find cocktails by specific characteristics\",\n",
    "        \"examples\": [\"Je cherche un cocktail rafraichissant pour l'été\", \"Quel cocktail fort en alcool ?\"]\n",
    "    },\n",
    "    \"Recherche par occasion\": {\n",
    "        \"description\": \"Find cocktails for specific occasions\",\n",
    "        \"examples\": [\"Quels cocktails puis-je faire pour une soirée entre amis ?\", \"Je cherche un cocktail pour un anniversaire\"]\n",
    "    }\n",
    "}\n",
    "\n",
    "def generate_questions(category, examples):\n",
    "    prompt = f\"\"\"\n",
    "    Generate 15 diverse questions using different wording/formulation in French about cocktails for this category: {category}\n",
    "    Examples: {examples}\n",
    "    \n",
    "    Return only the questions in this format, and do not include a introductory sentence in your response:\n",
    "    1. [question]\n",
    "    2. [question]\n",
    "    ...\n",
    "    15. [question]\n",
    "    \"\"\"\n",
    "    \n",
    "    response = request_mistral(prompt)\n",
    "\n",
    "    return [line.split('. ', 1)[1] for line in response.split('\\n') if line.strip()]\n",
    "\n",
    "def find_relevant_cocktails(question):\n",
    "    prompt = f\"\"\"\n",
    "    Select the 10 most relevant cocktails from this list for the question: \n",
    "    Question: {question}\n",
    "    \n",
    "    Cocktail names:\n",
    "    {', '.join(df['name'].tolist())}\n",
    "    \n",
    "    Return only the names separated by commas, don't include a introductory sentence in your answer.\n",
    "    \"\"\"\n",
    "    \n",
    "    response = request_mistral(prompt)\n",
    "    \n",
    "    return [name.strip() for name in response.split(', ')]"
   ]
  },
  {
   "cell_type": "markdown",
   "metadata": {},
   "source": [
    "## Etape 3 : Génération du dataset\n",
    "\n",
    "Désormais que nous avons nos méthodes de génération de questions et leurs réponses associées, nous allons générer notre dataset d'évaluation."
   ]
  },
  {
   "cell_type": "code",
   "execution_count": 39,
   "metadata": {},
   "outputs": [
    {
     "name": "stdout",
     "output_type": "stream",
     "text": [
      "Génération des questions de la categorie: Recherche par nom de cocktail\n",
      "Génération des questions de la categorie: Recherche par ingrédient\n",
      "Génération des questions de la categorie: Recherche par catégorie\n",
      "Génération des questions de la categorie: Recherche par type de verre\n",
      "Génération des questions de la categorie: Recherche par caractéristique\n",
      "Génération des questions de la categorie: Recherche par occasion\n"
     ]
    }
   ],
   "source": [
    "import time\n",
    "\n",
    "dataset = pd.DataFrame(columns=[\"category\", \"question\", \"relevant_cocktails\"])\n",
    "\n",
    "for category, details in categories.items():\n",
    "    print(f\"Génération des questions de la categorie: {category}\")\n",
    "    \n",
    "    questions = generate_questions(category, details[\"examples\"])\n",
    "    \n",
    "    time.sleep(1)\n",
    "\n",
    "    for question in questions:        \n",
    "        best_cocktails = find_relevant_cocktails(question)\n",
    "\n",
    "        dataset = pd.concat([dataset, pd.DataFrame({\n",
    "            \"category\": [category],\n",
    "            \"question\": [question],\n",
    "            \"relevant_cocktails\": ['; '.join(best_cocktails)]\n",
    "        })], ignore_index=True)\n",
    "        time.sleep(1)"
   ]
  },
  {
   "cell_type": "markdown",
   "metadata": {},
   "source": [
    "## Etape 4 : Sauvegarde du dataset\n",
    "\n",
    "Désormais que notre dataset est généré, nous allons le sauvegarder en format csv pour pouvoir l'utiliser dans le notebook suivant."
   ]
  },
  {
   "cell_type": "code",
   "execution_count": null,
   "metadata": {},
   "outputs": [],
   "source": [
    "dataset.to_csv('../data/cocktails_questions_eval.csv', index=False)"
   ]
  },
  {
   "cell_type": "code",
   "execution_count": null,
   "metadata": {},
   "outputs": [],
   "source": []
  }
 ],
 "metadata": {
  "kernelspec": {
   "display_name": "Python 3",
   "language": "python",
   "name": "python3"
  },
  "language_info": {
   "codemirror_mode": {
    "name": "ipython",
    "version": 3
   },
   "file_extension": ".py",
   "mimetype": "text/x-python",
   "name": "python",
   "nbconvert_exporter": "python",
   "pygments_lexer": "ipython3",
   "version": "3.12.2"
  }
 },
 "nbformat": 4,
 "nbformat_minor": 2
}
